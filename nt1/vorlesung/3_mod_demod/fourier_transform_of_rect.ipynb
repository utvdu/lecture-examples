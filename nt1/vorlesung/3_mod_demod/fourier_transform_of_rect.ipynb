{
 "cells": [
  {
   "cell_type": "markdown",
   "metadata": {},
   "source": [
    "# Content and Objectives\n",
    "\n",
    "- Show effects of changing width and amplitude of a rectangular pulse in the frequency domain"
   ]
  },
  {
   "cell_type": "code",
   "execution_count": 3,
   "metadata": {},
   "outputs": [],
   "source": [
    "import numpy as np\n",
    "\n",
    "import matplotlib.pyplot as plt\n",
    "import matplotlib\n",
    "from ipywidgets import interactive\n",
    "import ipywidgets as widgets\n",
    "\n",
    "# showing figures inline\n",
    "%matplotlib inline"
   ]
  },
  {
   "cell_type": "code",
   "execution_count": 4,
   "metadata": {},
   "outputs": [],
   "source": [
    "# plotting options \n",
    "font = {'size'   : 26}\n",
    "plt.rc('font', **font)\n",
    "plt.rc('text', usetex=matplotlib.checkdep_usetex(True))\n",
    "\n",
    "matplotlib.rc('figure', figsize=(18, 10) )"
   ]
  },
  {
   "cell_type": "code",
   "execution_count": 7,
   "metadata": {},
   "outputs": [],
   "source": [
    "def plot_rect(A,T, t0):\n",
    "    x_range = np.arange(-20,20,0.05)\n",
    "    y = np.zeros(len(x_range))\n",
    "    start_rect = -T/2 + t0\n",
    "    stop_rect = +T/2 + t0\n",
    "    y[(x_range > start_rect) & (x_range < stop_rect)] = A\n",
    "    \n",
    "    plt.figure(1,figsize=(15,6))\n",
    "    plt.rcParams.update({'font.size': 14})\n",
    "    plt.subplot(1,2,1)\n",
    "    plt.plot(x_range, y, linewidth=2)\n",
    "    plt.xlim((-20,20))\n",
    "    plt.grid(True)\n",
    "    plt.xlabel(\"Zeit $t$ (s)\")\n",
    "    plt.ylabel(r\"$y = g(t)$\")\n",
    "\n",
    "    plt.subplot(1,2,2)\n",
    "    f_range = np.linspace(-3,3,len(x_range))\n",
    "    G = np.abs(A*np.sinc(T*f_range))\n",
    "    plt.plot(f_range, G, linewidth=2)\n",
    "    plt.grid(True)\n",
    "    plt.xlabel(\"Frequenz $f$ (Hz)\")\n",
    "    plt.ylabel(r\"$y = |G(f)|/T$\")\n",
    "    plt.show()    \n",
    "        "
   ]
  },
  {
   "cell_type": "code",
   "execution_count": 8,
   "metadata": {},
   "outputs": [
    {
     "data": {
      "application/vnd.jupyter.widget-view+json": {
       "model_id": "1b3197c1aaf8455f9340028b2ba90c4d",
       "version_major": 2,
       "version_minor": 0
      },
      "text/plain": [
       "interactive(children=(FloatSlider(value=1.0, continuous_update=False, description='Amplitude A', layout=Layout…"
      ]
     },
     "metadata": {},
     "output_type": "display_data"
    }
   ],
   "source": [
    "mystyle={'description_width': 'initial'}\n",
    "interactive_update = interactive(plot_rect, \\\n",
    "                                 A = widgets.FloatSlider(min=0.0,max=5.0,step=0.1,value=1, continuous_update=False, style=mystyle, description='Amplitude A',layout=widgets.Layout(width='50%')), \\\n",
    "                                 T = widgets.FloatSlider(min=1, max=20, value=10, continuous_update=False, style=mystyle, description='Pulse Width T',layout=widgets.Layout(width='50%')), \\\n",
    "                                 t0 = widgets.FloatSlider(min=-8, max=8, step=0.1, value=0, continuous_update=False, style=mystyle, description='Offset t0',layout=widgets.Layout(width='50%')))\n",
    "\n",
    "output = interactive_update.children[-1]\n",
    "output.layout.height = '400px'\n",
    "interactive_update"
   ]
  },
  {
   "cell_type": "code",
   "execution_count": null,
   "metadata": {},
   "outputs": [],
   "source": []
  }
 ],
 "metadata": {
  "kernelspec": {
   "display_name": "Python 3",
   "language": "python",
   "name": "python3"
  },
  "language_info": {
   "codemirror_mode": {
    "name": "ipython",
    "version": 3
   },
   "file_extension": ".py",
   "mimetype": "text/x-python",
   "name": "python",
   "nbconvert_exporter": "python",
   "pygments_lexer": "ipython3",
   "version": "3.7.3"
  }
 },
 "nbformat": 4,
 "nbformat_minor": 2
}
