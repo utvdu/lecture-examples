{
 "cells": [
  {
   "cell_type": "markdown",
   "metadata": {
    "pycharm": {
     "metadata": false
    }
   },
   "source": [
    "# Contents and Objectives\n",
    "\n",
    "* Implementation of the water-filling algorithm\n",
    "* Interactive illustration of the water-filling principle\n"
   ]
  },
  {
   "cell_type": "code",
   "execution_count": 5,
   "metadata": {
    "pycharm": {
     "is_executing": false,
     "metadata": false,
     "name": "#%%\n"
    }
   },
   "outputs": [],
   "source": [
    "import numpy as np\n",
    "import matplotlib.pyplot as plt\n",
    "import matplotlib\n",
    "from ipywidgets import interactive\n",
    "import ipywidgets as widgets\n",
    "%matplotlib inline\n",
    "\n",
    "# plotting options \n",
    "font = {'size'   : 30}\n",
    "plt.rc('font', **font)\n",
    "plt.rc('text', usetex=matplotlib.checkdep_usetex(True))\n",
    "\n",
    "matplotlib.rc('figure', figsize=(18, 8))"
   ]
  },
  {
   "cell_type": "markdown",
   "metadata": {
    "collapsed": true,
    "pycharm": {
     "is_executing": false,
     "name": "#%% md\n"
    }
   },
   "source": [
    "Specify total power p_tot as well as the noise levels of each channel\n"
   ]
  },
  {
   "cell_type": "code",
   "execution_count": 6,
   "metadata": {
    "pycharm": {
     "is_executing": false,
     "metadata": false,
     "name": "#%%\n"
    }
   },
   "outputs": [],
   "source": [
    "# Function returns the water-level P_max\n",
    "def get_waterlevel(sigma_nq, p_tot):    \n",
    "    # Sort noise values from lowest to largest\n",
    "    sigma_nq_sort = np.append(np.sort(sigma_nq), 9e99)\n",
    "    \n",
    "    index = 0\n",
    "    \n",
    "    # start filling from bottom until we reach the next channel\n",
    "    while index < len(sigma_nq):\n",
    "        waterlevel = (p_tot + np.sum(sigma_nq_sort[0:(index+1)]))/(index+1)\n",
    "        if waterlevel < sigma_nq_sort[index+1]:\n",
    "            return waterlevel\n",
    "        else:\n",
    "            index = index + 1          \n"
   ]
  },
  {
   "cell_type": "markdown",
   "metadata": {},
   "source": [
    "Illustration of the water-filling algorithm for 3 channels with configurable noise powers."
   ]
  },
  {
   "cell_type": "code",
   "execution_count": 11,
   "metadata": {
    "pycharm": {
     "is_executing": false,
     "metadata": false,
     "name": "#%%\n"
    }
   },
   "outputs": [
    {
     "name": "stdout",
     "output_type": "stream",
     "text": [
      "Water level P_max:  1.45\n",
      "Powers per channel:  [1.35 0.   0.65]\n"
     ]
    },
    {
     "data": {
      "image/png": "[encoded data removed]",
      "text/plain": [
       "<Figure size 648x432 with 1 Axes>"
      ]
     },
     "metadata": {
      "needs_background": "light"
     },
     "output_type": "display_data"
    }
   ],
   "source": [
    "font = {'size'   : 20}\n",
    "plt.rc('font', **font)\n",
    "plt.rc('text', usetex=True)\n",
    "\n",
    "p_tot = 2\n",
    "sigma_nq = np.array([0.1,3,0.8])\n",
    "\n",
    "waterlevel = get_waterlevel(sigma_nq, p_tot)\n",
    "water = np.maximum(waterlevel - sigma_nq,0)\n",
    "\n",
    "print(\"Water level P_max: \", waterlevel)\n",
    "print(\"Powers per channel: \", water)\n",
    "\n",
    "plt.figure(1,figsize=(9,6))\n",
    "plt.rcParams.update({'font.size': 14})\n",
    "x = np.arange(0.5,len(sigma_nq)+0.5, 1/100)\n",
    "y1 = np.repeat(sigma_nq,100)\n",
    "y2 = np.repeat(water,100)\n",
    "plt.stackplot(x,y1,y2,colors=('#A22223','#009682'), edgecolor='black')\n",
    "plt.xlim(0.5,len(sigma_nq)+0.5)\n",
    "plt.ylim(0,max(sigma_nq+water)*1.1)\n",
    "nzindex = (water != 0).argmax(axis=0)\n",
    "plt.text(nzindex+1,sigma_nq[nzindex]+water[nzindex],r'$P_{\\max} = %1.2f$' % waterlevel, horizontalalignment='center', verticalalignment='bottom')\n",
    "plt.xticks(np.arange(1,len(sigma_nq)+1))\n",
    "plt.xlabel(\"Channel index $i$\")\n",
    "plt.ylabel(\"\")\n",
    "\n",
    "plt.show()\n"
   ]
  },
  {
   "cell_type": "markdown",
   "metadata": {
    "pycharm": {
     "is_executing": false,
     "metadata": false,
     "name": "#%%\n"
    }
   },
   "source": [
    "*** \n",
    "Interactive version with more channels and adjustable water level"
   ]
  },
  {
   "cell_type": "code",
   "execution_count": 8,
   "metadata": {
    "pycharm": {
     "metadata": false,
     "name": "#%%\n"
    }
   },
   "outputs": [],
   "source": [
    "sigma_nq = np.array([0.2, 0.3, 1.6, 0.6, 0.17, 0.25, 0.93, 0.78, 1.3, 1.2, 0.66, 0.1, 0.25, 0.29, 0.19, 0.73])\n",
    "\n",
    "   \n",
    "def interactive_waterfilling_stack(p_tot):\n",
    "    waterlevel = get_waterlevel(sigma_nq, p_tot)\n",
    "    water = np.maximum(waterlevel - sigma_nq,0)\n",
    "\n",
    "    plt.figure(1,figsize=(15,6))\n",
    "    plt.rcParams.update({'font.size': 14})\n",
    "    x = np.arange(0.5,len(sigma_nq)+0.5, 1/100)\n",
    "    y1 = np.repeat(sigma_nq,100)\n",
    "    y2 = np.repeat(water,100)\n",
    "    plt.stackplot(x,y1,y2,colors=('#A22223','#009682'), edgecolor='black')\n",
    "    plt.xlim(0.5,len(sigma_nq)+0.5)\n",
    "    plt.ylim(0,max(sigma_nq+water)*1.1)\n",
    "    nzindex = (water != 0).argmax(axis=0)\n",
    "    plt.text(nzindex+0.8,sigma_nq[nzindex]+water[nzindex],r'$P_{\\max} = %1.2f$' % waterlevel, horizontalalignment='left', verticalalignment='bottom')\n",
    "    plt.xticks(np.arange(1,len(sigma_nq)+1))\n",
    "    plt.xlabel(\"Channel index $i$\")\n",
    "    plt.ylabel(\"\")\n",
    "    plt.legend([r'$\\sigma_{n,i}^2$','$P_i$'])    \n",
    "    plt.show()\n"
   ]
  },
  {
   "cell_type": "code",
   "execution_count": 10,
   "metadata": {
    "scrolled": false
   },
   "outputs": [
    {
     "data": {
      "application/vnd.jupyter.widget-view+json": {
       "model_id": "e01e3844aa2342b78e02b6ef6b542b0f",
       "version_major": 2,
       "version_minor": 0
      },
      "text/plain": [
       "interactive(children=(FloatSlider(value=3.0, continuous_update=False, description='P_s', layout=Layout(width='…"
      ]
     },
     "metadata": {},
     "output_type": "display_data"
    }
   ],
   "source": [
    "interactive_update = interactive(interactive_waterfilling_stack, \\\n",
    "                                 p_tot = widgets.FloatSlider(min=0.1,max=15.0,step=0.1,value=3, continuous_update=False, description='P_s',layout=widgets.Layout(width='70%')))\n",
    "\n",
    "output = interactive_update.children[-1]\n",
    "output.layout.height = '400px'\n",
    "interactive_update"
   ]
  },
  {
   "cell_type": "code",
   "execution_count": null,
   "metadata": {},
   "outputs": [],
   "source": []
  }
 ],
 "metadata": {
  "kernelspec": {
   "display_name": "Python 3",
   "language": "python",
   "name": "python3"
  },
  "language_info": {
   "codemirror_mode": {
    "name": "ipython",
    "version": 3
   },
   "file_extension": ".py",
   "mimetype": "text/x-python",
   "name": "python",
   "nbconvert_exporter": "python",
   "pygments_lexer": "ipython3",
   "version": "3.8.5"
  },
  "stem_cell": {
   "cell_type": "raw",
   "metadata": {
    "pycharm": {
     "metadata": false
    }
   },
   "source": ""
  }
 },
 "nbformat": 4,
 "nbformat_minor": 1
}
