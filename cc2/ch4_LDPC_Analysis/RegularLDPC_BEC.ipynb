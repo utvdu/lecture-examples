{
 "cells": [
  {
   "cell_type": "markdown",
   "metadata": {},
   "source": [
    "# Regular LDPC Codes on the BEC\n",
    "\n",
    "This code is provided as supplementary material of the lecture Channel Coding 2 - Advanced Methods.\n",
    "\n",
    "This code illustrates\n",
    "* Convergence analysis of regular LDPC codes on the binary erasure channel (BEC)"
   ]
  },
  {
   "cell_type": "code",
   "execution_count": 1,
   "metadata": {},
   "outputs": [],
   "source": [
    "import numpy as np\n",
    "import matplotlib.pyplot as plot\n",
    "from ipywidgets import interactive\n",
    "import ipywidgets as widgets\n",
    "import math\n",
    "%matplotlib inline  "
   ]
  },
  {
   "cell_type": "markdown",
   "metadata": {},
   "source": [
    "In this notebook, we look at the performance evaluation of regular $[d_{\\mathtt{v}},d_{\\mathtt{c}}]$ LDPC codes. We first consider the fixed-point equation before looking at the evolution of the message erasure probability as a function of the erasures"
   ]
  },
  {
   "cell_type": "code",
   "execution_count": 2,
   "metadata": {},
   "outputs": [],
   "source": [
    "def fixedpoint(epsilon, dv, dc):\n",
    "    plot.figure(3)    \n",
    "    x = np.linspace(0, 1, num=1000)\n",
    "    y = epsilon * (1 - (1-x)**(dc-1))**(dv-1) - x\n",
    "    print('Rate of the code %1.2f' % (1-dv/dc))\n",
    "    if any(e >= 0 for e in y[2:]):\n",
    "        color = (1, 0, 0)\n",
    "    else:\n",
    "        color = (0, 0.59, 0.51)\n",
    "        \n",
    "    plot.rcParams.update({'font.size': 16})\n",
    "    plot.plot(x, y, color=color)\n",
    "    plot.xlabel(r'$\\xi$')\n",
    "    plot.ylabel(r'$f(\\epsilon,\\xi)-\\xi$')\n",
    "    plot.xlim(0,1)\n",
    "    plot.grid()\n",
    "    plot.show()"
   ]
  },
  {
   "cell_type": "markdown",
   "metadata": {},
   "source": [
    "This code evaluates the fixed point equation for regular $[d_{\\mathtt{v}},d_{\\mathtt{c}}]$ LDPC codes. The fixed point equation in this case reads\n",
    "$$f(\\epsilon,\\xi)-\\xi <= 0\\quad \\forall \\xi \\in (0,1]$$\n",
    "with\n",
    "$$f(\\epsilon,\\xi) = \\epsilon\\left(1-(1-\\xi)^{d_{\\mathtt{c}}-1}\\right)^{d_{\\mathtt{v}}-1}$$\n",
    "\n",
    "The plot below shows the evaluate of $f(\\epsilon,\\xi)-\\xi$. If $f(\\epsilon,\\xi)-\\xi \\leq 0$ for any $\\xi > 0$, then decoding is possible and the curve is displayed with blue color. In the other case, it is displayed with red color.\n",
    "\n",
    "You can use the sliders to control the values $[d_{\\mathtt{v}},d_{\\mathtt{c}}]$ of the code and the channel parameter $\\epsilon$ (epsilon)."
   ]
  },
  {
   "cell_type": "code",
   "execution_count": 6,
   "metadata": {},
   "outputs": [
    {
     "data": {
      "application/vnd.jupyter.widget-view+json": {
       "model_id": "6b6c93a5038f4a2b9122d6c1c80fbb80",
       "version_major": 2,
       "version_minor": 0
      },
      "text/plain": [
       "interactive(children=(FloatSlider(value=0.5, description='\\\\(\\\\epsilon\\\\)', layout=Layout(width='50%'), max=1.…"
      ]
     },
     "metadata": {},
     "output_type": "display_data"
    }
   ],
   "source": [
    "interactive_plot = interactive(fixedpoint, \\\n",
    "                               epsilon=widgets.FloatSlider(min=0.0,max=1,step=0.001,value=0.5, continuous_update=True, description=r'\\(\\epsilon\\)',layout=widgets.Layout(width='50%')), \\\n",
    "                               dv = widgets.IntSlider(min=2,max=10,step=1,value=3, continuous_update=False, description=r'\\(d_{\\mathtt{v}}\\)'), \\\n",
    "                               dc = widgets.IntSlider(min=3, max=20, step=1, value=6, continuous_update=False, description=r'\\(d_{\\mathtt{c}}\\)'))\n",
    "\n",
    "output = interactive_plot.children[-1]\n",
    "output.layout.height = '350px'\n",
    "interactive_plot"
   ]
  },
  {
   "cell_type": "markdown",
   "metadata": {
    "collapsed": true
   },
   "source": [
    "In the following, we show the update equation of the code, i.e., how the code behaves as a function of the iteration counter for the first 100 iterations."
   ]
  },
  {
   "cell_type": "code",
   "execution_count": 4,
   "metadata": {},
   "outputs": [],
   "source": [
    "def f_iter(epsilon, dv, dc):\n",
    "    num_iter = 101\n",
    "    plot.figure(4)        \n",
    "    xi = np.zeros(num_iter)\n",
    "    xi[0] = epsilon\n",
    "        \n",
    "    for k in np.arange(1,num_iter):\n",
    "        xi[k] = epsilon * (1 - (1-xi[k-1])**(dc-1))**(dv-1)    \n",
    "        \n",
    "    print('Rate of the code %1.2f' % (1-dv/dc))\n",
    "    if any(e == 0 for e in xi[:]):\n",
    "        color = (0, 0.59, 0.51)\n",
    "    else:\n",
    "        color = (1,0,0)\n",
    "        \n",
    "    plot.rc('text', usetex=True)\n",
    "    plot.rc('font', family='serif')   \n",
    "    plot.rcParams.update({'font.size': 16})\n",
    "\n",
    "    plot.plot(np.arange(1,num_iter+1), xi, color=color)\n",
    "    plot.xlabel(r'Iterations $\\ell$')\n",
    "    plot.ylabel(r'$\\xi_\\ell = f(\\epsilon,\\xi_{\\ell-1})$')\n",
    "    plot.ylim(0,max(epsilon+0.1,dv/dc))\n",
    "    plot.xlim(0,num_iter)\n",
    "    plot.grid()\n",
    "    plot.show()"
   ]
  },
  {
   "cell_type": "code",
   "execution_count": 5,
   "metadata": {},
   "outputs": [
    {
     "data": {
      "application/vnd.jupyter.widget-view+json": {
       "model_id": "81acc3dcc2f744469fa5aa3744313421",
       "version_major": 2,
       "version_minor": 0
      },
      "text/plain": [
       "interactive(children=(SelectionSlider(continuous_update=False, description='\\\\(\\\\epsilon\\\\)', index=500, layou…"
      ]
     },
     "metadata": {},
     "output_type": "display_data"
    }
   ],
   "source": [
    "epsilon_values = np.arange(0,1,0.001)\n",
    "interactive_update = interactive(f_iter, \\\n",
    "                               epsilon=widgets.SelectionSlider(options=[(\"%1.3f\"%i,i) for i in epsilon_values], value=0.5, continuous_update=False, description=r'\\(\\epsilon\\)',layout=widgets.Layout(width='50%')), \\\n",
    "                               dv = widgets.IntSlider(min=2,max=10,step=1,value=3, continuous_update=False, description=r'\\(d_{\\mathtt{v}}\\)'), \\\n",
    "                               dc = widgets.IntSlider(min=3, max=20, step=1, value=6, continuous_update=False, description=r'\\(d_{\\mathtt{c}}\\)'))\n",
    "\n",
    "output = interactive_update.children[-1]\n",
    "output.layout.height = '350px'\n",
    "interactive_update"
   ]
  },
  {
   "cell_type": "code",
   "execution_count": null,
   "metadata": {},
   "outputs": [],
   "source": []
  }
 ],
 "metadata": {
  "kernelspec": {
   "display_name": "Python 3",
   "language": "python",
   "name": "python3"
  },
  "language_info": {
   "codemirror_mode": {
    "name": "ipython",
    "version": 3
   },
   "file_extension": ".py",
   "mimetype": "text/x-python",
   "name": "python",
   "nbconvert_exporter": "python",
   "pygments_lexer": "ipython3",
   "version": "3.6.9"
  }
 },
 "nbformat": 4,
 "nbformat_minor": 2
}
