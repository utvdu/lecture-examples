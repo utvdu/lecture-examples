{
 "cells": [
  {
   "cell_type": "markdown",
   "metadata": {},
   "source": [
    "# Image Compression using Autoencoders with BPSK\n",
    "\n",
    "This code is provided as supplementary material of the lecture Machine Learning and Optimization in Communications (MLOC).<br>\n",
    "\n",
    "This code illustrates\n",
    "* joint compression and error protection of images by auto-encoders\n",
    "* generation of BPSK symbols using stochastic quantizers\n",
    "* transmission over a binary symmetric channel (BSC)"
   ]
  },
  {
   "cell_type": "code",
   "execution_count": 1,
   "metadata": {},
   "outputs": [
    {
     "name": "stdout",
     "output_type": "stream",
     "text": [
      "We are using the following device for learning: cuda\n"
     ]
    }
   ],
   "source": [
    "import torch\n",
    "import torch.nn as nn\n",
    "import torch.optim as optim\n",
    "import torchvision\n",
    "import numpy as np\n",
    "from matplotlib import pyplot as plt\n",
    "\n",
    "device = 'cuda' if torch.cuda.is_available() else 'cpu'\n",
    "print(\"We are using the following device for learning:\",device)"
   ]
  },
  {
   "cell_type": "markdown",
   "metadata": {},
   "source": [
    "### Import and load MNIST dataset (Preprocessing)\n",
    "Dataloader are powerful instruments, which help you to prepare your data. E.g. you can shuffle your data, transform data (standardize/normalize), divide it into batches, ...  For more information see https://pytorch.org/docs/stable/data.html#torch.utils.data.DataLoader <br>\n",
    "\n",
    "In our case, we just use the dataloader to download the Dataset and preprocess the data on our own."
   ]
  },
  {
   "cell_type": "code",
   "execution_count": 2,
   "metadata": {},
   "outputs": [],
   "source": [
    "batch_size_train = 60000      # Samples per Training Batch\n",
    "batch_size_test = 10000     # just create one large test dataset (MNIST test dataset has 10.000 Samples)\n",
    "\n",
    "# Get Training and Test Dataset with a Dataloader\n",
    "train_loader = torch.utils.data.DataLoader(\n",
    "  torchvision.datasets.MNIST('./files/', train=True, download=True,\n",
    "  transform=torchvision.transforms.Compose([torchvision.transforms.ToTensor()])),\n",
    "  batch_size=batch_size_train, shuffle=True)\n",
    "\n",
    "test_loader = torch.utils.data.DataLoader(\n",
    "  torchvision.datasets.MNIST('./files/', train=False, download=True,\n",
    "  transform=torchvision.transforms.Compose([torchvision.transforms.ToTensor()])),\n",
    "  batch_size=batch_size_test, shuffle=True)\n",
    "\n",
    "# We are only interessted in the data and not in the targets\n",
    "for idx, (data, targets) in enumerate(train_loader):\n",
    "    x_train = data[:,0,:,:]\n",
    "\n",
    "for idx, (data, targets) in enumerate(test_loader):\n",
    "    x_test = data[:,0,:,:]\n",
    "\n",
    "image_size = x_train.shape[1]\n",
    "x_test_flat = torch.reshape(x_test, (x_test.shape[0], image_size*image_size))"
   ]
  },
  {
   "cell_type": "markdown",
   "metadata": {},
   "source": [
    "Plot 8 random images"
   ]
  },
  {
   "cell_type": "code",
   "execution_count": 3,
   "metadata": {},
   "outputs": [
    {
     "data": {
      "image/png": "[encoded data removed]",
      "text/plain": [
       "<Figure size 1152x144 with 8 Axes>"
      ]
     },
     "metadata": {},
     "output_type": "display_data"
    }
   ],
   "source": [
    "plt.figure(figsize=(16,2))\n",
    "for k in range(8):\n",
    "    plt.subplot(1,8,k+1)\n",
    "    plt.imshow(x_train[np.random.randint(x_train.shape[0])], interpolation='nearest', cmap='binary')\n",
    "    plt.xticks(())\n",
    "    plt.yticks(())"
   ]
  },
  {
   "cell_type": "markdown",
   "metadata": {},
   "source": [
    "### Specify Autoencoder\n",
    "As explained in the lecture, we are using Stochstic Quantization. This means for the training process (*def forward*), we employ stochastic quantization in forward path but during back-propagation, we consider the quantization device as being\n",
    "non-existent (*.detach()*). While validating and testing, use deterministic quantization (*def test*) <br>\n",
    "\n",
    "\n",
    "*Note: .detach() removes the tensor from the computation graph*"
   ]
  },
  {
   "cell_type": "code",
   "execution_count": 4,
   "metadata": {},
   "outputs": [],
   "source": [
    "hidden_encoder_1 = 500\n",
    "hidden_encoder_2 = 250\n",
    "hidden_encoder_3 = 100\n",
    "hidden_encoder = [hidden_encoder_1, hidden_encoder_2, hidden_encoder_3]\n",
    "\n",
    "hidden_decoder_1 = 100\n",
    "hidden_decoder_2 = 250\n",
    "hidden_decoder_3 = 500\n",
    "hidden_decoder = [hidden_decoder_1, hidden_decoder_2, hidden_decoder_3]\n",
    "\n",
    "\n",
    "class Autoencoder(nn.Module):\n",
    "    def __init__(self, hidden_encoder, hidden_decoder, image_size, bit_per_image):\n",
    "        super(Autoencoder, self).__init__()\n",
    "       \n",
    "        # Define Transmitter Layer: Linear function, M input neurons (symbols), 2 output neurons (real and imaginary part)        \n",
    "        self.We1 = nn.Linear(image_size*image_size, hidden_encoder[0]) \n",
    "        self.We2 = nn.Linear(hidden_encoder[0], hidden_encoder[1]) \n",
    "        self.We3 = nn.Linear(hidden_encoder[1], hidden_encoder[2]) \n",
    "        self.We4 = nn.Linear(hidden_encoder[2], bit_per_image)         \n",
    "        \n",
    "        # Define Receiver Layer: Linear function, 2 input neurons (real and imaginary part), M output neurons (symbols)\n",
    "        self.Wd1 = nn.Linear(bit_per_image,hidden_decoder[0]) \n",
    "        self.Wd2 = nn.Linear(hidden_decoder[0], hidden_decoder[1]) \n",
    "        self.Wd3 = nn.Linear(hidden_decoder[1], hidden_decoder[2]) \n",
    "        self.Wd4 = nn.Linear(hidden_decoder[2], image_size*image_size) \n",
    "\n",
    "        # Non-linearity (used in transmitter and receiver)\n",
    "        self.activation_function = nn.ELU()    \n",
    "        self.sigmoid = nn.Sigmoid()\n",
    "        self.softsign = nn.Softsign()\n",
    "\n",
    "    def forward(self, training_data, Pe):\n",
    "        encoded = self.encoder(training_data)\n",
    "        # random binarization in training\n",
    "        ti = encoded.clone()\n",
    "        compressed = ti + (self.binarizer(ti) - ti).detach()\n",
    "        # add error pattern (flip the bit or not)\n",
    "        error_tensor = torch.distributions.Bernoulli(Pe * torch.ones_like(compressed)).sample() \n",
    "        received = torch.mul( compressed, 1 - 2*error_tensor)\n",
    "        \n",
    "        reconstructed = self.decoder(received)\n",
    "        return reconstructed\n",
    "        \n",
    "    def test(self, valid_data, Pe):\n",
    "        encoded_test = self.encoder(valid_data)\n",
    "        compressed_test = self.binarizer_deterministic(encoded_test)\n",
    "        error_tensor_test = torch.distributions.Bernoulli(Pe * torch.ones_like(compressed_test)).sample()\n",
    "        received_test = torch.mul( compressed_test, 1 - 2*error_tensor_test )\n",
    "        reconstructed_test = self.decoder(received_test)\n",
    "        loss_test = torch.mean(torch.square(valid_data - reconstructed_test))\n",
    "\n",
    "        reconstructed_test_noerror = self.decoder(compressed_test)\n",
    "        return reconstructed_test\n",
    "        \n",
    "    def encoder(self, batch):\n",
    "        temp = self.activation_function(self.We1(batch))\n",
    "        temp = self.activation_function(self.We2(temp))\n",
    "        temp = self.activation_function(self.We3(temp))\n",
    "        output = self.softsign(self.We4(temp))\n",
    "        return output\n",
    "    \n",
    "    def decoder(self, batch):\n",
    "        temp = self.activation_function(self.Wd1(batch))\n",
    "        temp = self.activation_function(self.Wd2(temp))\n",
    "        temp = self.activation_function(self.Wd3(temp))\n",
    "        output = self.sigmoid(self.Wd4(temp))\n",
    "        return output\n",
    "    \n",
    "    def binarizer(self, input):\n",
    "        # This is the stochastic quatizer which we use for the training\n",
    "        prob = torch.div(torch.add(input, 1.0), 2.0)\n",
    "        bernoulli = torch.distributions.Bernoulli(prob)  # torch.distributions.bernoulli.\n",
    "        # bernoulli = tf.distributions.Bernoulli(probs=prob, dtype=tf.float32)\n",
    "        return 2*bernoulli.sample() - 1\n",
    "\n",
    "    def binarizer_deterministic(self, input):\n",
    "        # This is the deteministic quatizer which we use for \n",
    "        return torch.sign(input)"
   ]
  },
  {
   "cell_type": "markdown",
   "metadata": {},
   "source": [
    "Helper function to get a random mini-batch of images"
   ]
  },
  {
   "cell_type": "code",
   "execution_count": 5,
   "metadata": {},
   "outputs": [],
   "source": [
    "def get_batch(x, batch_size):\n",
    "    idxs = np.random.randint(0, x.shape[0], (batch_size))\n",
    "    return torch.stack([torch.reshape(x[k], (-1,)) for k in idxs])"
   ]
  },
  {
   "cell_type": "markdown",
   "metadata": {},
   "source": [
    "### Perform the training"
   ]
  },
  {
   "cell_type": "code",
   "execution_count": null,
   "metadata": {},
   "outputs": [
    {
     "name": "stdout",
     "output_type": "stream",
     "text": [
      "Initializing ....\n",
      "Start Training\n",
      "Pe = 0.00, bits = 5, It 0: (best SNR: -2.8957 dB)\n",
      "Pe = 0.00, bits = 5, It 10000: (best SNR: 4.0096 dB)\n",
      "Pe = 0.00, bits = 5, It 20000: (best SNR: 4.0227 dB)\n",
      "Pe = 0.00, bits = 5, It 30000: (best SNR: 4.0227 dB)\n",
      "Pe = 0.00, bits = 5, It 40000: (best SNR: 4.0241 dB)\n",
      "Pe = 0.00, bits = 5, It 50000: (best SNR: 4.0243 dB)\n",
      "Pe = 0.00, bits = 5, It 60000: (best SNR: 4.0243 dB)\n",
      "Pe = 0.00, bits = 5, It 70000: (best SNR: 4.0255 dB)\n",
      "Pe = 0.00, bits = 5, It 80000: (best SNR: 4.0304 dB)\n",
      "Pe = 0.00, bits = 5, It 90000: (best SNR: 4.0304 dB)\n",
      "Finished learning for e = 0.00, bits = 5. Best SNR: 4.0304\n",
      "Initializing ....\n",
      "Start Training\n",
      "Pe = 0.00, bits = 10, It 0: (best SNR: -2.9289 dB)\n",
      "Pe = 0.00, bits = 10, It 10000: (best SNR: 5.1916 dB)\n",
      "Pe = 0.00, bits = 10, It 20000: (best SNR: 5.3070 dB)\n",
      "Pe = 0.00, bits = 10, It 30000: (best SNR: 5.3852 dB)\n",
      "Pe = 0.00, bits = 10, It 40000: (best SNR: 5.4082 dB)\n",
      "Pe = 0.00, bits = 10, It 50000: (best SNR: 5.4334 dB)\n",
      "Pe = 0.00, bits = 10, It 60000: (best SNR: 5.4424 dB)\n",
      "Pe = 0.00, bits = 10, It 70000: (best SNR: 5.4569 dB)\n",
      "Pe = 0.00, bits = 10, It 80000: (best SNR: 5.4639 dB)\n"
     ]
    }
   ],
   "source": [
    "batch_size = 250\n",
    "Pe_range = np.array([0, 0.01, 0.1, 0.2])\n",
    "bit_range = np.array([5, 10, 20, 30, 40, 50, 60, 70, 80, 100])\n",
    "\n",
    "SNR_result = np.zeros( (len(Pe_range), len(bit_range)) )\n",
    "\n",
    "# Mean Squared Error loss\n",
    "loss_fn = nn.MSELoss()\n",
    "\n",
    "\n",
    "\n",
    "for i in range(len(Pe_range)):\n",
    "    for j in range(len(bit_range)):\n",
    "        best_SNR = -9999;\n",
    "        print('Initializing ....')\n",
    "        \n",
    "        model = Autoencoder(hidden_encoder, hidden_decoder, image_size, bit_range[j])\n",
    "        model.to(device)\n",
    "\n",
    "\n",
    "        # Adam Optimizer\n",
    "        optimizer = optim.Adam(model.parameters())    \n",
    "    \n",
    "        print('Start Training')   # Training loop\n",
    "\n",
    "        for it in range(100000):  # Original paper does 50k iterations  \n",
    "            mini_batch = torch.Tensor(get_batch(x_train, batch_size)).to(device)\n",
    "            # Propagate (training) data through the net\n",
    "            reconstructed = model(mini_batch, Pe_range[i])\n",
    "    \n",
    "            # compute loss\n",
    "            loss = loss_fn(mini_batch, reconstructed)\n",
    "\n",
    "            # compute gradients\n",
    "            loss.backward()\n",
    "\n",
    "            # Adapt weights\n",
    "            optimizer.step()\n",
    "\n",
    "            # reset gradients\n",
    "            optimizer.zero_grad()\n",
    "    \n",
    "            # Evaulation with the test data\n",
    "            if it % 500 == 0:\n",
    "                reconstructed_test = model.test(x_test_flat.to(device), Pe_range[i])\n",
    "                noise =  torch.mean(torch.square(x_test_flat.to(device) - reconstructed_test))\n",
    "                SNR = 10.0 * (torch.log(torch.mean(torch.square(x_test_flat.to(device)))) - torch.log(noise)) / np.log(10.0)                \n",
    "                cur_SNR = SNR.detach().cpu().numpy().squeeze()\n",
    "                if cur_SNR > best_SNR:\n",
    "                    best_SNR = cur_SNR\n",
    "                    \n",
    "            if it % 10000 == 0:            \n",
    "                print('Pe = %1.2f, bits = %d, It %d: (best SNR: %1.4f dB)' % (Pe_range[i], bit_range[j], it, best_SNR))\n",
    "        \n",
    "        SNR_result[i,j] = best_SNR\n",
    "        print('Finished learning for e = %1.2f, bits = %d. Best SNR: %1.4f' % (Pe_range[i], bit_range[j], best_SNR))\n",
    "    \n",
    "print('Training finished')\n",
    "np.savetxt('SNR_result.txt', SNR_result, delimiter=',')"
   ]
  },
  {
   "cell_type": "code",
   "execution_count": null,
   "metadata": {},
   "outputs": [],
   "source": []
  }
 ],
 "metadata": {
  "kernelspec": {
   "display_name": "Python 3",
   "language": "python",
   "name": "python3"
  },
  "language_info": {
   "codemirror_mode": {
    "name": "ipython",
    "version": 3
   },
   "file_extension": ".py",
   "mimetype": "text/x-python",
   "name": "python",
   "nbconvert_exporter": "python",
   "pygments_lexer": "ipython3",
   "version": "3.6.10"
  }
 },
 "nbformat": 4,
 "nbformat_minor": 2
}
