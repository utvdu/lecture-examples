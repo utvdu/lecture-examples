{
 "cells": [
  {
   "cell_type": "markdown",
   "metadata": {},
   "source": [
    "# Name Competition with Naive Bayes Predictor\n",
    "\n",
    "This code is provided as supplementary material of the lecture Machine Learning and Optimization in Communications (MLOC).<br>\n",
    "\n",
    "This code illustrates\n",
    "* Classifying names based on a simple naive Bayesian predictor with conditional probabilities estimated from histograms of the training set"
   ]
  },
  {
   "cell_type": "code",
   "execution_count": 3,
   "metadata": {},
   "outputs": [],
   "source": [
    "import numpy as np\n",
    "import string"
   ]
  },
  {
   "cell_type": "markdown",
   "metadata": {},
   "source": [
    "Load file from data and convert to training set and test set (reading from two distinct files)\n"
   ]
  },
  {
   "cell_type": "code",
   "execution_count": 4,
   "metadata": {},
   "outputs": [],
   "source": [
    "def read_file(filename):\n",
    "    with open(filename) as f:\n",
    "        content = f.readlines()\n",
    "    y = [line[0] for line in content]    \n",
    "    X = [line[2:].strip() for line in content]\n",
    "    return X,y\n",
    "\n",
    "X_train,y_train = read_file('Names_data_train_large.txt')\n",
    "X_test,y_test = read_file('Names_data_test.txt')"
   ]
  },
  {
   "cell_type": "markdown",
   "metadata": {},
   "source": [
    "Class for the naive Bayes classifier. It is based on a feature vector\n",
    "\\begin{equation*}\n",
    "\\boldsymbol{x} = \\begin{pmatrix} x_1 & \\cdots & x_m\\end{pmatrix}^\\mathrm{T}\n",
    "\\end{equation*}\n",
    "where each $x_i$ represent a letter from the word (in its integer, ASCII representation).\n",
    "\n",
    "The classifier works by application of the Bayes theorem:\n",
    "$$\n",
    "P(y|x_1,\\ldots, x_m) = \\frac{P(x_1,\\ldots, x_m|y)P(y)}{P(x_1,\\ldots,x_m)}\n",
    "$$\n",
    "Therein, we decompose $P(x_1,\\ldots,x_m|y)$ using the chain rule of conditional probability as\n",
    "\\begin{align*}\n",
    "P(x_1,\\ldots,x_m|y) &= P(x_1|y,x_2,\\ldots, x_m)P(x_2|y,x_3,\\ldots,x_m)\\cdots P(x_m|y) \\\\\n",
    "&= \\prod_{i=1}^mP(x_i|y,x_{i+1},\\ldots, x_m)\n",
    "\\end{align*}\n",
    "To simplify the computation, we next make an input assumption that the features $x_i$ are conditionally independent given the observation $y$. Of course, this is not the case in the letters of words, we some combinations can occur more often than others (for instance, a \"q\" is almost always followed by a \"u\"), but we use it as a first approach. This conditional independence leads to (consider the example with $m=2$, where $P(x_1,x_2|y) = P(x_1|y)P(x_2|y)$ and hence, by writing $P(x_1,x_2|y) = P(x_1|y,x_2)P(x_2|y)$ we get $P(x_1|y,x_2) = P(x_1|y)$)\n",
    "$$\n",
    "P(x_1,\\ldots,x_m|y) = \\prod_{i=1}^mP(x_i|y)\n",
    "$$\n",
    "Hence, we can write finally\n",
    "\\begin{align*}\n",
    "\\hat{y} &= \\arg\\max_{y}P(y|\\boldsymbol{x}) \\\\\n",
    "&= \\arg\\max_y \\frac{P(x_1,\\ldots, x_m|y)P(y)}{P(x_1,\\ldots,x_m)} \\\\\n",
    "&\\stackrel{(i)}{=} \\arg\\max_y P(x_1,\\ldots, x_m|y)P(y) \\\\\n",
    "&= \\arg\\max_y P(y) \\prod_{i=1}^mP(x_i|y)\n",
    "\\end{align*}\n",
    "where $(i)$ is due to the fact that $P(x_1,\\ldots, x_m)$ is constant and doesn't change the maximization.\n",
    "\n",
    "From our training set, we can easily measure histograms for $P(y)$ (i.e., $P(\\mathsf{y} = +)$ and $P(\\mathsf{y}=-)$) and also for $P(x_i|y)$. Another alternative would be to fit a distribution (e.g., a Gaussian) to $P(x_i|y)$ but we have some domain knowledge that the letters are probably not Gaussian distributed, so this wouldn't be a good fit\n",
    "\n",
    "Note that usually, we would write $\\hat{y} = \\arg\\max_y \\ln P(y) + \\sum_{i=1}^m \\ln P(x_i|y)$ and compute the logarithms of $P(x_i|y)$ (the so-called log-likelihoods) to ease implementation and avoid numerical fallacies. But due to the small dimensionality of the problem, this can be avoided here.\n",
    "\n",
    "***\n",
    "\n",
    "Next, we develop a class that does the training. Essentially the $\\texttt{fit}$ function computes the aforementioned histograms of $P(y)$ and $P(x_i|y)$ where $x_i$ is the $i$-th letter of the word. We can specify as a parameter the number of letters to consider (starting from left). If a name is shorter, it is filled with spaces (this will add a bias if many short names are present!). Ideally we should remove spaces, but as we are not yet sure if the position of a space would influence the estimate, we will avoid this here"
   ]
  },
  {
   "cell_type": "code",
   "execution_count": 5,
   "metadata": {},
   "outputs": [],
   "source": [
    "class Naive_Bayes():\n",
    "    '''\n",
    "    Class for training a very naive Bayes estimator which generates a histogram from the training set\n",
    "    \n",
    "    Parameter is the number of letters of the word to consider\n",
    "    '''    \n",
    "    def __init__( self, letters ):\n",
    "        self.letters = letters\n",
    "        \n",
    "    # compute the histograms P(Y) (stored in self.Py) and P(x_i|y) (stored in self.Px)\n",
    "    def fit( self, X, y) :       \n",
    "        # convert to numeric entries\n",
    "        ty = np.zeros( len(y) )\n",
    "        for k in range( len(y) ):\n",
    "            if y[k]=='+':\n",
    "                ty[k] = 1\n",
    "        \n",
    "        tX = np.empty( (0, self.letters) )\n",
    "        for mys in X:\n",
    "            if len(mys) < self.letters:             \n",
    "                # add spaces if string is too short\n",
    "                mys += ( ' ' * (self.letters-len(mys) ) )\n",
    "            tX = np.vstack( (tX, [ord(x) for x in mys[0:self.letters] ] ) )\n",
    "        \n",
    "        # compute histograms        \n",
    "        ordrange = np.arange(int(np.amin(tX)), int( np.amax(tX) )+1)\n",
    "        self.Py = np.array( [1-np.mean(ty), np.mean(ty)] )  \n",
    "\n",
    "        self.Px = [ {} for _ in range(self.letters) ]\n",
    "        for pos in range( self.letters ):\n",
    "            summe = np.array([0,0])\n",
    "            for ii in ordrange:\n",
    "                # Compute p(x_i=ii|y=0)\n",
    "                pxgy0 = sum( tX[ty==0, pos]==ii ) / tX[ty==0, pos].shape[0]\n",
    "                # Compute p(x_i=ii|y=1)\n",
    "                pxgy1 = sum( tX[ty==1, pos]==ii ) / tX[ty==1, pos].shape[0]\n",
    "                # if the doesn't occur at the certain position, don't store\n",
    "                if pxgy0 > 0 or pxgy1 > 0:\n",
    "                    pxgy0 = max(pxgy0, 1e-4) # assume small probability if letter doesn't occur\n",
    "                    pxgy1 = max(pxgy1, 1e-4) # assume small probability if letter doesn't occur\n",
    "                    self.Px[pos][chr(ii)] = np.array( [pxgy0, pxgy1] )\n",
    "                    summe = np.add(summe, self.Px[pos][chr(ii)])\n",
    "            # normalize probability so that \\sum_j P(x_i = j|y) = 1\n",
    "            for key in self.Px[pos]:\n",
    "                self.Px[pos][key] = np.divide(self.Px[pos][key], summe)\n",
    "        \n",
    "    # return histograms\n",
    "    def get_model(self):\n",
    "        return self.Py, self.Px\n",
    "    \n",
    "    # perform the prediction based on maximizing P(y)\\prod P(x_i|y)\n",
    "    # normally, the prediction would be done in logairthmic domain, but here we just use plain probabilities\n",
    "    def predict(self, X):\n",
    "        rety = ['+' for _ in X]\n",
    "        for idx, elem_X in enumerate(X):\n",
    "            \n",
    "            # add spaces if string is too short\n",
    "            elem_X += ( ' ' * max(0,self.letters-len(elem_X) ) )\n",
    "            probvec = self.Py.copy()\n",
    "                        \n",
    "            for pos in range( self.letters ):        \n",
    "                if elem_X[pos] in self.Px[pos]:  # only if letter appeared in training set, consider it during prediction\n",
    "                    probvec = np.multiply(probvec, self.Px[pos][elem_X[pos]])   \n",
    "                    # Normalize after each step to avoid getting very small probabilities\n",
    "                    probvec = np.divide(probvec, sum(probvec))                \n",
    "            \n",
    "            if probvec[0] > probvec[1]:\n",
    "                rety[idx] = '-'\n",
    "        return rety"
   ]
  },
  {
   "cell_type": "code",
   "execution_count": 6,
   "metadata": {},
   "outputs": [],
   "source": [
    "clf = Naive_Bayes(10)\n",
    "clf.fit(X_train,y_train)\n",
    "Py,Px = clf.get_model()"
   ]
  },
  {
   "cell_type": "code",
   "execution_count": 7,
   "metadata": {
    "scrolled": false
   },
   "outputs": [
    {
     "name": "stdout",
     "output_type": "stream",
     "text": [
      "- predicted as: -      ( Arnold Sommerfeld )\n",
      "- predicted as: -      ( Edward Arnold )\n",
      "+ predicted as: +      ( Gichin Funakoshi )\n",
      "+ predicted as: +      ( John Heartfield )\n",
      "+ predicted as: +      ( Morihei Ueshiba )\n",
      "- predicted as: -      ( Erik Bergman )\n",
      "- predicted as: -      ( Gypsy Rose Lee )\n",
      "- predicted as: -      ( Irene Ryan )\n",
      "+ predicted as: +      ( Sidney Franklin )\n",
      "+ predicted as: +      ( Sid James )\n",
      "- predicted as: -      ( Armstrong Sperry )\n",
      "+ predicted as: +      ( Cicely Courtneidge )\n",
      "+ predicted as: +      ( Jim Davis )\n",
      "+ predicted as: +      ( Count Basie )\n",
      "- predicted as: -      ( Broderick Crawford )\n",
      "+ predicted as: +      ( Bessie Love )\n",
      "+ predicted as: +      ( Dechko Uzunov )\n",
      "+ predicted as: +      ( John Silkin )\n",
      "+ predicted as: +      ( Lucille Ball )\n",
      "+ predicted as: +      ( Leo Arnaud )\n",
      "+ predicted as: +      ( Carmine Coppola )\n",
      "+ predicted as: +      ( Richard Hatfield )\n",
      "+ predicted as: +      ( Mas Oyama )\n",
      "- predicted as: -      ( Stirling Silliphant )\n",
      "- predicted as: -      ( Adrian Borland )\n",
      "+ predicted as: +      ( Jill Dando )\n",
      "+ predicted as: +      ( Rosemary Brown )\n",
      "+ predicted as: +      ( Yun Hyon-seok )\n",
      "- predicted as: +      ( Edward Max Nicholson )\n",
      "+ predicted as: +      ( Hubert Selby )\n",
      "+ predicted as: +      ( Mason Adams )\n",
      "- predicted as: -      ( Elisabeth Domitien )\n",
      "+ predicted as: +      ( Maria Schell )\n",
      "+ predicted as: +      ( Augusto Roa Bastos )\n",
      "+ predicted as: +      ( Jack Valenti )\n",
      "+ predicted as: +      ( Hans Holzer )\n",
      "+ predicted as: +      ( Mariam A. Aleem )\n",
      "- predicted as: +      ( Urs Felber )\n",
      "- predicted as: -      ( Phoebe Snow )\n",
      "+ predicted as: +      ( Terence Spinks )\n",
      "+ predicted as: +      ( Jacqueline Brookes )\n",
      "+ predicted as: +      ( George Jones )\n",
      "+ predicted as: +      ( Gerald Guralnik )\n",
      "+ predicted as: +      ( Paul Robeson )\n",
      "+ predicted as: +      ( Jayne Meadows )\n",
      "+ predicted as: +      ( Marcel Pronovost )\n",
      "+ predicted as: +      ( Harry Wu )\n",
      "+ predicted as: +      ( Jonathan Demme )\n",
      "Prediction errors: 2 (error rate 4.17 %)\n"
     ]
    }
   ],
   "source": [
    "y = clf.predict(X_test)\n",
    "errors = 0\n",
    "for idx,value in enumerate(y_test):\n",
    "    print(value,'predicted as:', y[idx], '     (',X_test[idx],')')\n",
    "    if value != y[idx]:\n",
    "        errors += 1\n",
    "        \n",
    "print('Prediction errors: %d (error rate %1.2f %%)' % (errors, errors/len(y)*100))        "
   ]
  },
  {
   "cell_type": "code",
   "execution_count": 8,
   "metadata": {},
   "outputs": [
    {
     "name": "stdout",
     "output_type": "stream",
     "text": [
      "1 letters: 7 prediction errors (error rate 14.58 %)\n",
      "2 letters: 0 prediction errors (error rate 0.00 %)\n",
      "3 letters: 0 prediction errors (error rate 0.00 %)\n",
      "4 letters: 0 prediction errors (error rate 0.00 %)\n",
      "5 letters: 0 prediction errors (error rate 0.00 %)\n",
      "6 letters: 0 prediction errors (error rate 0.00 %)\n",
      "7 letters: 0 prediction errors (error rate 0.00 %)\n",
      "8 letters: 0 prediction errors (error rate 0.00 %)\n",
      "9 letters: 1 prediction errors (error rate 2.08 %)\n"
     ]
    }
   ],
   "source": [
    "# find optimal number of errors\n",
    "for letter in range(1,10):    \n",
    "    clf = Naive_Bayes(letter)\n",
    "    clf.fit(X_train,y_train)\n",
    "    y = clf.predict(X_test)\n",
    "    \n",
    "    errors = 0\n",
    "    for idx,k in enumerate(y_test):    \n",
    "        if k != y[idx]:\n",
    "            errors += 1\n",
    "        \n",
    "    print('%d letters: %d prediction errors (error rate %1.2f %%)' % (letter, errors,errors*100/len(y_test)))"
   ]
  },
  {
   "cell_type": "code",
   "execution_count": 9,
   "metadata": {},
   "outputs": [],
   "source": [
    "# Train with 5 letters\n",
    "clf = Naive_Bayes(5)\n",
    "clf.fit(X_train,y_train)"
   ]
  },
  {
   "cell_type": "code",
   "execution_count": 10,
   "metadata": {},
   "outputs": [
    {
     "name": "stdout",
     "output_type": "stream",
     "text": [
      "['+']\n"
     ]
    }
   ],
   "source": [
    "print(clf.predict(['Xavier Jones']))"
   ]
  },
  {
   "cell_type": "markdown",
   "metadata": {},
   "source": [
    "Generate figures with histograms for the first few positions"
   ]
  },
  {
   "cell_type": "code",
   "execution_count": 37,
   "metadata": {},
   "outputs": [
    {
     "data": {
      "image/png": "[encoded data removed]",
      "text/plain": [
       "<Figure size 1080x432 with 2 Axes>"
      ]
     },
     "metadata": {
      "needs_background": "light"
     },
     "output_type": "display_data"
    },
    {
     "data": {
      "image/png": "[encoded data removed]",
      "text/plain": [
       "<Figure size 1080x432 with 2 Axes>"
      ]
     },
     "metadata": {
      "needs_background": "light"
     },
     "output_type": "display_data"
    },
    {
     "data": {
      "image/png": "[encoded data removed]",
      "text/plain": [
       "<Figure size 1080x432 with 2 Axes>"
      ]
     },
     "metadata": {
      "needs_background": "light"
     },
     "output_type": "display_data"
    }
   ],
   "source": [
    "import matplotlib.pyplot as plt\n",
    "\n",
    "font = {'size'   : 16}\n",
    "plt.rc('font', **font)\n",
    "plt.rc('text', usetex=matplotlib.checkdep_usetex(True))\n",
    "\n",
    "for pos in range(3):\n",
    "    # remove space from Dictionary as it messes up the plot\n",
    "    Px[pos].pop(' ',None)\n",
    "    \n",
    "    plt.figure(figsize=(15,6))\n",
    "\n",
    "    lists = sorted(Px[pos].items())\n",
    "    x, y = zip(*lists)\n",
    "    y0 = np.array([k[0] for k in y])\n",
    "    y1 = np.array([k[1] for k in y])    \n",
    "    ymax = max(max(y0),max(y1))\n",
    "    \n",
    "    plt.subplot(121)\n",
    "    colors = plt.cm.YlGnBu(y0 / (ymax))\n",
    "    plt.bar(x,y0,color=colors)\n",
    "    plt.title('$P(y=-|x_%d)$' % (pos+1),fontsize=20)\n",
    "    plt.ylim((0,0.35))\n",
    "    plt.xlabel('Letter')\n",
    "    \n",
    "    plt.subplot(122)\n",
    "    colors = plt.cm.YlGnBu(y1 / (ymax))\n",
    "    plt.title('$P(y=+|x_%d)$' % (pos+1),fontsize=20)    \n",
    "    plt.bar(x,y1,color=colors)\n",
    "    plt.ylim((0,0.35))    \n",
    "    plt.xlabel('Letter')\n",
    "    #plt.savefig('Name_histograms_pos%d.pdf' % (pos+1), bbox_inches='tight')      "
   ]
  }
 ],
 "metadata": {
  "kernelspec": {
   "display_name": "Python 3",
   "language": "python",
   "name": "python3"
  },
  "language_info": {
   "codemirror_mode": {
    "name": "ipython",
    "version": 3
   },
   "file_extension": ".py",
   "mimetype": "text/x-python",
   "name": "python",
   "nbconvert_exporter": "python",
   "pygments_lexer": "ipython3",
   "version": "3.7.6"
  }
 },
 "nbformat": 4,
 "nbformat_minor": 2
}
